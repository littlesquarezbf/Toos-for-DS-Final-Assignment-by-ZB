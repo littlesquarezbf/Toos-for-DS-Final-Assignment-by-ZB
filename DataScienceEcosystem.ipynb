{
 "cells": [
  {
   "cell_type": "markdown",
   "id": "bebe5f1b-8ee1-4923-926e-3ca39edfc8c6",
   "metadata": {
    "tags": []
   },
   "source": [
    "# Data Science Tools and Ecosystem"
   ]
  },
  {
   "cell_type": "markdown",
   "id": "518b6fd8-2565-4c6d-906a-bdf173423eb2",
   "metadata": {},
   "source": [
    "In this notebook, Data Science Tools and Ecosystem are summarized."
   ]
  },
  {
   "cell_type": "markdown",
   "id": "12ce54ae-9c43-408f-bc18-94f8669a884a",
   "metadata": {},
   "source": [
    "**Objectives:**\n",
    "- List the tasks that a data scientist needs to perform to build a model.\n",
    "- List the open-source tools used in data science.\n",
    "- Describe the relevant features of open-source tools.\n",
    "- List the commercial data science tools.\n"
   ]
  },
  {
   "cell_type": "markdown",
   "id": "07b83174-0ce6-455f-a3de-c79a7bab247c",
   "metadata": {},
   "source": [
    "Some of the popular languages that Data Scientists use are:"
   ]
  },
  {
   "cell_type": "markdown",
   "id": "33762014-cc0e-4f11-a8e6-53881676ed82",
   "metadata": {},
   "source": [
    "1. Python\n",
    "2. R\n",
    "3. SQL\n",
    "4. Scala\n",
    "5. Java"
   ]
  },
  {
   "cell_type": "markdown",
   "id": "bb15951c-6f21-4266-a58d-b6c9d680cd5e",
   "metadata": {},
   "source": [
    "Some of the commonly used libraries used by Data Scientists include:"
   ]
  },
  {
   "cell_type": "markdown",
   "id": "c6d42e13-d3bb-4283-92da-8b35cd5c792c",
   "metadata": {},
   "source": [
    "1. pandas\n",
    "2. Numpy\n",
    "3. The Scikit-learn library\n",
    "4. Keras\n",
    "5. TensorFlow\n",
    "6. The Spark library"
   ]
  },
  {
   "cell_type": "markdown",
   "id": "0fb737e6-53a1-4a95-9e5d-4e5bc8693b3c",
   "metadata": {},
   "source": [
    "| Data Science Tools |\n",
    "|-------|\n",
    "| Jupyter Notebook |\n",
    "| RStudio |\n",
    "| Spyder |"
   ]
  },
  {
   "cell_type": "markdown",
   "id": "b2651076-ce8f-4650-ae1d-b2665fa65043",
   "metadata": {},
   "source": [
    "### Below are a few examples of evaluating arithmetic expressions in Python"
   ]
  },
  {
   "cell_type": "code",
   "execution_count": 3,
   "id": "78ab19ac-b25e-4c95-899f-d8b4fe10ad6c",
   "metadata": {},
   "outputs": [
    {
     "data": {
      "text/plain": [
       "17"
      ]
     },
     "execution_count": 3,
     "metadata": {},
     "output_type": "execute_result"
    }
   ],
   "source": [
    "# This a simple arithmetic expression to mutiply then add integers\n",
    "(3*4)+5"
   ]
  },
  {
   "cell_type": "code",
   "execution_count": 4,
   "id": "302930f6-7d32-4141-9866-40b143af53ef",
   "metadata": {},
   "outputs": [
    {
     "data": {
      "text/plain": [
       "3.3333333333333335"
      ]
     },
     "execution_count": 4,
     "metadata": {},
     "output_type": "execute_result"
    }
   ],
   "source": [
    "# This will convert 200 minutes to hours by diving by 60\n",
    "200/60"
   ]
  },
  {
   "cell_type": "markdown",
   "id": "c41d0177-309e-41b8-9960-35d3b8b018b3",
   "metadata": {},
   "source": [
    "## Author\n",
    "Bofang Zheng"
   ]
  },
  {
   "cell_type": "code",
   "execution_count": null,
   "id": "d4122ede-b989-4623-b5e5-adc93fcc7b08",
   "metadata": {},
   "outputs": [],
   "source": []
  }
 ],
 "metadata": {
  "kernelspec": {
   "display_name": "Python",
   "language": "python",
   "name": "conda-env-python-py"
  },
  "language_info": {
   "codemirror_mode": {
    "name": "ipython",
    "version": 3
   },
   "file_extension": ".py",
   "mimetype": "text/x-python",
   "name": "python",
   "nbconvert_exporter": "python",
   "pygments_lexer": "ipython3",
   "version": "3.7.12"
  }
 },
 "nbformat": 4,
 "nbformat_minor": 5
}
